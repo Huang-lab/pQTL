{
 "cells": [
  {
   "cell_type": "code",
   "execution_count": 1,
   "id": "4e534c7a",
   "metadata": {},
   "outputs": [],
   "source": [
    "import pandas as pd\n",
    "import matplotlib.pyplot as plt\n",
    "import seaborn as sns\n",
    "import numpy as np\n",
    "import glob"
   ]
  },
  {
   "cell_type": "code",
   "execution_count": 2,
   "id": "a7d77a83",
   "metadata": {},
   "outputs": [],
   "source": [
    "cancers = ['BRCA', 'CRC', 'CCRCC', 'LUAD', 'OV', 'UCEC']\n",
    "mutations = ['truncating', 'missense', 'synonymous']"
   ]
  },
  {
   "cell_type": "code",
   "execution_count": 3,
   "id": "c306f849",
   "metadata": {},
   "outputs": [],
   "source": [
    "discordant = pd.read_excel('../data/results/discordant.xlsx')\n",
    "concordant = pd.read_excel('../data/results/concordant.xlsx')"
   ]
  },
  {
   "cell_type": "markdown",
   "id": "d3f0d6ce",
   "metadata": {},
   "source": [
    "# Get expression data"
   ]
  },
  {
   "cell_type": "code",
   "execution_count": 4,
   "id": "71a3359f",
   "metadata": {},
   "outputs": [],
   "source": [
    "def extract_expression(samples, exp, exp_pro, gene, mutation, cancer):\n",
    "    for sampleid in samples.index:\n",
    "        if sampleid in exp_pro.columns.tolist():   \n",
    "            tmp = pd.Series(exp_pro.loc[gene][sampleid])\n",
    "            tmp.index = [gene]\n",
    "            tmp['mutation'] = mutation\n",
    "            tmp['cancer'] = cancer\n",
    "            tmp['sample_id'] = sampleid\n",
    "            exp = pd.concat([exp, tmp])\n",
    "    return exp"
   ]
  },
  {
   "cell_type": "code",
   "execution_count": 5,
   "id": "bc8c9729",
   "metadata": {},
   "outputs": [],
   "source": [
    "def process_exp(exp):\n",
    "    gen = exp[(exp.index != 'mutation') & (exp.index != 'cancer') & (exp.index != 'sample_id')]\n",
    "\n",
    "    mut = exp[exp.index =='mutation']\n",
    "    cancer = exp[exp.index =='cancer']\n",
    "    sample_id = exp[exp.index =='sample_id']\n",
    "    genid = gen.index\n",
    "\n",
    "    gen.reset_index(inplace=True, drop=True)\n",
    "    mut.reset_index(inplace=True, drop=True)\n",
    "    cancer.reset_index(inplace=True, drop=True)\n",
    "    sample_id.reset_index(inplace=True, drop=True)\n",
    "\n",
    "    expression = pd.concat([gen, mut, cancer, sample_id], axis=1)\n",
    "    expression['gene'] = genid\n",
    "    expression.columns=['expression', 'mutation', 'cancer', 'sample_id', 'gene']\n",
    "    expression.dropna(inplace=True)\n",
    "    \n",
    "    return expression"
   ]
  },
  {
   "cell_type": "code",
   "execution_count": 6,
   "id": "14cc42d8",
   "metadata": {},
   "outputs": [],
   "source": [
    "def wild_vs_mut(cordance, path):\n",
    "    mutant_exp = pd.DataFrame()\n",
    "    wild_exp = pd.DataFrame()\n",
    "    \n",
    "    for index, row in cordance.iterrows():\n",
    "        gene = row['Gene']\n",
    "        mutation = row['mutation']\n",
    "        cancer = row['cancer']\n",
    "        mut = pd.read_csv('../../../Huang_lab_data/PanCancerProteomicsData_HuangLab/'+\n",
    "                              cancer+'.WXS.SomaticVariant.'+mutation+'.txt.gz', sep='\\t')\n",
    "        mut.columns = mut.columns.to_series().str.split(\".Tumor\",1).apply(lambda x: x[0])\n",
    "        exp_pro = pd.read_csv('../../../Huang_lab_data/PanCancerProteomicsData_HuangLab/'+\n",
    "                      cancer+path, sep='\\t')\n",
    "        if path == '.transcriptome.FPKM.formatted.tumor.txt.gz':\n",
    "            exp_pro = np.log2(exp_pro+1) # rna\n",
    "        exp_pro.columns = exp_pro.columns.to_series().str.split(\".Tumor\",1).apply(lambda x: x[0])\n",
    "        \n",
    "        mutant_samples = mut.loc[gene][mut.loc[gene] != 0] # mutant\n",
    "        wild_samples = mut.loc[gene][mut.loc[gene] == 0] # wild\n",
    "    \n",
    "        mutant_exp = extract_expression(mutant_samples, mutant_exp, exp_pro, gene, mutation, cancer)\n",
    "        wild_exp = extract_expression(wild_samples, wild_exp, exp_pro, gene, mutation, cancer)\n",
    "\n",
    "    mutant_expression = process_exp(mutant_exp)\n",
    "    wild_expression = process_exp(wild_exp)\n",
    "\n",
    "    mutant_expression['isMut'] = 'mutant'\n",
    "    wild_expression['isMut'] = 'wild'\n",
    "    \n",
    "    exp_wild_vs_mut = pd.concat([wild_expression, mutant_expression])\n",
    "    \n",
    "    return exp_wild_vs_mut"
   ]
  },
  {
   "cell_type": "code",
   "execution_count": 7,
   "id": "965d8f18",
   "metadata": {},
   "outputs": [],
   "source": [
    "pro_path = '.proteome.formatted.normalized.tumor.txt.gz'\n",
    "rna_path = '.transcriptome.FPKM.formatted.tumor.txt.gz'"
   ]
  },
  {
   "cell_type": "code",
   "execution_count": 8,
   "id": "41f8a8e6",
   "metadata": {},
   "outputs": [],
   "source": [
    "dis_pro = wild_vs_mut(discordant, pro_path)\n",
    "dis_rna = wild_vs_mut(discordant, rna_path)\n",
    "con_pro = wild_vs_mut(concordant, pro_path)\n",
    "con_rna = wild_vs_mut(concordant, rna_path)"
   ]
  },
  {
   "cell_type": "code",
   "execution_count": 9,
   "id": "a25ad904",
   "metadata": {},
   "outputs": [],
   "source": [
    "dis_pro.to_csv('../data/wildVSmut/discordant/pro_exp_wildVsMut.csv')\n",
    "dis_rna.to_csv('../data/wildVSmut/discordant/rna_exp_wildVsMut.csv')\n",
    "con_pro.to_csv('../data/wildVSmut/concordant/pro_exp_wildVsMut.csv')\n",
    "con_rna.to_csv('../data/wildVSmut/concordant/rna_exp_wildVsMut.csv')"
   ]
  },
  {
   "cell_type": "markdown",
   "id": "37e603b6",
   "metadata": {},
   "source": [
    "# Merge violin plot data with HGVSp data"
   ]
  },
  {
   "cell_type": "code",
   "execution_count": 12,
   "id": "861830c5",
   "metadata": {},
   "outputs": [],
   "source": [
    "cordance = ['discordant', 'concordant']\n",
    "product = ['pro', 'rna']\n",
    "\n",
    "for c in cordance:\n",
    "    for p in product:\n",
    "        violin_dat = pd.read_csv('../data/wildVSmut/'+c+'/'+p+'_exp_wildVsMut.csv')\n",
    "        for mutation in mutations:\n",
    "            for cancer in cancers:\n",
    "                hgvsp = pd.read_csv('../data/HGVSp/' + cancer + mutation + 'HGVSp.csv')\n",
    "                hgvsp.columns = hgvsp.columns.to_series().str.split(\".Tumor\",1).apply(lambda x: x[0])\n",
    "                hgvsp = hgvsp.rename(columns={'Unnamed: 0':'gene'})\n",
    "                hgvsp.index = hgvsp['gene']\n",
    "                hgvsp = hgvsp.drop(['gene'], axis=1)\n",
    "                for sample_id in hgvsp.columns:\n",
    "                    rows = violin_dat[(violin_dat['mutation'] == mutation) & (violin_dat['cancer'] == cancer) & \n",
    "                    (violin_dat['sample_id'] == sample_id)]\n",
    "                    if rows.shape[0] == 0:\n",
    "                        continue\n",
    "                    genes = rows['gene']\n",
    "                    violin_dat.loc[(violin_dat['mutation'] == mutation) & (violin_dat['cancer'] == cancer) & \n",
    "                    (violin_dat['sample_id'] == sample_id), 'hgvsp'] = list(rows.merge(hgvsp, how='left', on='gene')[sample_id])\n",
    "        violin_dat.to_csv('../data/wildVSmut/'+c+'/'+p+'_exp_wildVsMut.csv')"
   ]
  },
  {
   "cell_type": "code",
   "execution_count": null,
   "id": "0c882fbc",
   "metadata": {},
   "outputs": [],
   "source": []
  }
 ],
 "metadata": {
  "kernelspec": {
   "display_name": "Python 3",
   "language": "python",
   "name": "python3"
  },
  "language_info": {
   "codemirror_mode": {
    "name": "ipython",
    "version": 3
   },
   "file_extension": ".py",
   "mimetype": "text/x-python",
   "name": "python",
   "nbconvert_exporter": "python",
   "pygments_lexer": "ipython3",
   "version": "3.8.8"
  }
 },
 "nbformat": 4,
 "nbformat_minor": 5
}
