{
 "cells": [
  {
   "cell_type": "code",
   "execution_count": 1,
   "id": "90c6b7c3",
   "metadata": {},
   "outputs": [],
   "source": [
    "import warnings\n",
    "import numpy as np\n",
    "import pandas as pd\n",
    "import scipy.stats as stats"
   ]
  },
  {
   "cell_type": "code",
   "execution_count": 2,
   "id": "903d73c6",
   "metadata": {},
   "outputs": [],
   "source": [
    "warnings.filterwarnings('ignore')"
   ]
  },
  {
   "cell_type": "code",
   "execution_count": 3,
   "id": "2ec4448c",
   "metadata": {},
   "outputs": [],
   "source": [
    "cancers = ['OV', 'CRC', 'BRCA']\n",
    "mutations = ['missense', 'truncating', 'synonymous']"
   ]
  },
  {
   "cell_type": "markdown",
   "id": "8096c21b",
   "metadata": {},
   "source": [
    "## Concat OV files from different centers"
   ]
  },
  {
   "cell_type": "code",
   "execution_count": 4,
   "id": "7495e7cf",
   "metadata": {},
   "outputs": [],
   "source": [
    "mut = 'missense'"
   ]
  },
  {
   "cell_type": "code",
   "execution_count": 5,
   "id": "b1bf8cd3",
   "metadata": {},
   "outputs": [],
   "source": [
    "for mut in mutations:   \n",
    "    jhu = pd.read_excel('../data/Pro_regression_retro_cptac/Table.DNA.PRO.JHU.regression.linearLIMMA.ProVsMut.OV.' +\n",
    "                      mut + '.xlsx')\n",
    "    pnnl = pd.read_excel('../data/Pro_regression_retro_cptac/Table.DNA.PRO.PNNL.regression.linearLIMMA.ProVsMut.OV.' +\n",
    "                      mut + '.xlsx')\n",
    "    df = pd.concat([jhu, pnnl], axis=0)\n",
    "    df.to_excel('../data/Pro_regression_retro_cptac/Table.DNA.PRO.regression.linearLIMMA.ProVsMut.OV.' + mut + '.xlsx')"
   ]
  },
  {
   "cell_type": "markdown",
   "id": "af73428c",
   "metadata": {},
   "source": [
    "## Overlap prosective and retrosepctive data"
   ]
  },
  {
   "cell_type": "code",
   "execution_count": 6,
   "id": "ee89787b",
   "metadata": {},
   "outputs": [],
   "source": [
    "dat = pd.DataFrame()\n",
    "\n",
    "for cancer in cancers:\n",
    "    for mut in mutations:\n",
    "        pros = pd.read_excel('../data/DNA_RNA_regression/Table.DNA.RNA.regression.linearLIMMA.RNAVsMut.' + \n",
    "                             cancer + '.' + mut + '.xlsx')\n",
    "        retro = pd.read_excel('../data/RNA_regression_retro_cptac/Table.DNA.RNA.regression.linearLIMMA.RNAVsMut.' + \n",
    "                              cancer + '.' + mut + '.xlsx')\n",
    "#         pros = pd.read_excel('../data/DNA_PRO_regression/Table.DNA.PRO.regression.linearLIMMA.ProVsMut.' + \n",
    "#                              cancer + '.' + mut + '.xlsx')\n",
    "#         retro = pd.read_excel('../data/Pro_regression_retro_cptac/Table.DNA.PRO.regression.linearLIMMA.ProVsMut.' + \n",
    "#                               cancer + '.' + mut + '.xlsx')\n",
    "        sig_pros = pros[pros['P.value'] < 0.05]\n",
    "        sig_pros = sig_pros[['Gene', 'logFC', 'FDR']]\n",
    "        sig_retro = retro[retro['P.value'] < 0.05]\n",
    "        sig_retro = sig_retro[['Gene', 'logFC', 'FDR']]\n",
    "        df = sig_pros.merge(sig_retro, on='Gene')\n",
    "        df.columns = ['Gene', 'logFC_pros', 'FDR_pros', 'logFC_retro', 'FDR_retro']\n",
    "        df['cancer'] = cancer\n",
    "        df['mutation'] = mut\n",
    "        df.to_excel('../data/overlap_with_retro/eQTLs/' + cancer + mut + 'p_value.05_overlap_eQTLs.xlsx')\n",
    "#         df.to_excel('../data/overlap_with_retro/pQTLs/' + cancer + mut + 'p_value.05_overlap_pQTLs.xlsx')\n",
    "        dat = pd.concat([dat, df], axis=0)\n",
    "\n",
    "dat.to_excel('../data/overlap_with_retro/eQTLs/overlap_eQTLs.xlsx')\n",
    "# dat.to_excel('../data/overlap_with_retro/pQTLs/overlap_pQTLs.xlsx')"
   ]
  },
  {
   "cell_type": "code",
   "execution_count": null,
   "id": "a0fbfdf9",
   "metadata": {},
   "outputs": [],
   "source": [
    "overlap = pd.read_excel('../data/overlap_with_retro/eQTLs/overlap_eQTLs.xlsx')\n",
    "# overlap = pd.read_excel('../data/overlap_with_retro/pQTLs/overlap_pQTLs.xlsx')\n",
    "overlap = overlap.drop(['Unnamed: 0', '...1'], axis=1).reset_index(drop=True)\n",
    "overlap.columns = ['Gene', 'logFC.pros', 'FDR.pros', 'logFC.retro', 'FDR.retro', 'mutation', 'cancer']\n",
    "overlap.to_excel('../data/results/overlap_eQTLs.xlsx')\n",
    "# overlap.to_excel('../data/results/overlap_pQTLs.xlsx')\n",
    "overlap.head()"
   ]
  },
  {
   "cell_type": "code",
   "execution_count": null,
   "id": "a1e5e2c8",
   "metadata": {},
   "outputs": [],
   "source": [
    "validated_pQTLs = pd.read_excel('../data/results/overlap_with_retro_pQTLs.xlsx', index_col=[0])\n",
    "validated_concordant = concordant.merge(validated_pQTLs, on=['Gene', 'cancer', 'mutation'])\n",
    "validated_concordant.to_excel('../data/results/validated_concordant.xlsx')"
   ]
  },
  {
   "cell_type": "code",
   "execution_count": null,
   "id": "9eba8886",
   "metadata": {},
   "outputs": [],
   "source": []
  }
 ],
 "metadata": {
  "kernelspec": {
   "display_name": "Python 3",
   "language": "python",
   "name": "python3"
  },
  "language_info": {
   "codemirror_mode": {
    "name": "ipython",
    "version": 3
   },
   "file_extension": ".py",
   "mimetype": "text/x-python",
   "name": "python",
   "nbconvert_exporter": "python",
   "pygments_lexer": "ipython3",
   "version": "3.8.8"
  }
 },
 "nbformat": 4,
 "nbformat_minor": 5
}
