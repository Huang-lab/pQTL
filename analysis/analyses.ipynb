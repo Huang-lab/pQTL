{
 "cells": [
  {
   "cell_type": "code",
   "execution_count": 1,
   "id": "26bd7585",
   "metadata": {},
   "outputs": [],
   "source": [
    "import pandas as pd\n",
    "import matplotlib.pyplot as plt\n",
    "import seaborn as sns\n",
    "import numpy as np\n",
    "import scipy.stats as stats"
   ]
  },
  {
   "attachments": {},
   "cell_type": "markdown",
   "id": "bde76bec",
   "metadata": {},
   "source": [
    "# Mutation impacts at the mRNA and protein levels"
   ]
  },
  {
   "cell_type": "code",
   "execution_count": 2,
   "id": "a41e528a",
   "metadata": {},
   "outputs": [],
   "source": [
    "rna = pd.read_csv('../data/DNA_RNA_regression/Table.DNA.RNA.regression.linearLIMMA.RNAVsMut.csv')\n",
    "pro = pd.read_csv('../data/DNA_Pro_regression/Table.DNA.PRO.regression.linearLIMMA.ProVsMut.csv')"
   ]
  },
  {
   "cell_type": "code",
   "execution_count": 3,
   "id": "089d7cd7",
   "metadata": {},
   "outputs": [
    {
     "data": {
      "text/html": [
       "<div>\n",
       "<style scoped>\n",
       "    .dataframe tbody tr th:only-of-type {\n",
       "        vertical-align: middle;\n",
       "    }\n",
       "\n",
       "    .dataframe tbody tr th {\n",
       "        vertical-align: top;\n",
       "    }\n",
       "\n",
       "    .dataframe thead th {\n",
       "        text-align: right;\n",
       "    }\n",
       "</style>\n",
       "<table border=\"1\" class=\"dataframe\">\n",
       "  <thead>\n",
       "    <tr style=\"text-align: right;\">\n",
       "      <th></th>\n",
       "      <th>Unnamed: 0</th>\n",
       "      <th>Gene</th>\n",
       "      <th>logFC</th>\n",
       "      <th>AveExpr</th>\n",
       "      <th>t</th>\n",
       "      <th>P.value</th>\n",
       "      <th>B</th>\n",
       "      <th>FDR</th>\n",
       "      <th>RNA</th>\n",
       "      <th>cancer</th>\n",
       "      <th>mutation</th>\n",
       "    </tr>\n",
       "  </thead>\n",
       "  <tbody>\n",
       "    <tr>\n",
       "      <th>0</th>\n",
       "      <td>1</td>\n",
       "      <td>TP53</td>\n",
       "      <td>0.752430</td>\n",
       "      <td>3.437722</td>\n",
       "      <td>4.524541</td>\n",
       "      <td>0.000017</td>\n",
       "      <td>2.679575</td>\n",
       "      <td>0.004075</td>\n",
       "      <td>TP53</td>\n",
       "      <td>BRCA</td>\n",
       "      <td>missense</td>\n",
       "    </tr>\n",
       "    <tr>\n",
       "      <th>1</th>\n",
       "      <td>2</td>\n",
       "      <td>ALPK2</td>\n",
       "      <td>0.994126</td>\n",
       "      <td>0.496255</td>\n",
       "      <td>3.715526</td>\n",
       "      <td>0.000334</td>\n",
       "      <td>0.001841</td>\n",
       "      <td>0.040779</td>\n",
       "      <td>ALPK2</td>\n",
       "      <td>BRCA</td>\n",
       "      <td>missense</td>\n",
       "    </tr>\n",
       "    <tr>\n",
       "      <th>2</th>\n",
       "      <td>3</td>\n",
       "      <td>TTN</td>\n",
       "      <td>0.122115</td>\n",
       "      <td>0.341531</td>\n",
       "      <td>2.852456</td>\n",
       "      <td>0.005272</td>\n",
       "      <td>-2.314030</td>\n",
       "      <td>0.327261</td>\n",
       "      <td>TTN</td>\n",
       "      <td>BRCA</td>\n",
       "      <td>missense</td>\n",
       "    </tr>\n",
       "    <tr>\n",
       "      <th>3</th>\n",
       "      <td>4</td>\n",
       "      <td>UBR1</td>\n",
       "      <td>0.804240</td>\n",
       "      <td>2.699487</td>\n",
       "      <td>2.846444</td>\n",
       "      <td>0.005365</td>\n",
       "      <td>-2.327922</td>\n",
       "      <td>0.327261</td>\n",
       "      <td>UBR1</td>\n",
       "      <td>BRCA</td>\n",
       "      <td>missense</td>\n",
       "    </tr>\n",
       "    <tr>\n",
       "      <th>4</th>\n",
       "      <td>5</td>\n",
       "      <td>MAP3K1</td>\n",
       "      <td>0.989807</td>\n",
       "      <td>3.760067</td>\n",
       "      <td>2.529414</td>\n",
       "      <td>0.012987</td>\n",
       "      <td>-3.012350</td>\n",
       "      <td>0.555211</td>\n",
       "      <td>MAP3K1</td>\n",
       "      <td>BRCA</td>\n",
       "      <td>missense</td>\n",
       "    </tr>\n",
       "  </tbody>\n",
       "</table>\n",
       "</div>"
      ],
      "text/plain": [
       "   Unnamed: 0    Gene     logFC   AveExpr         t   P.value         B  \\\n",
       "0           1    TP53  0.752430  3.437722  4.524541  0.000017  2.679575   \n",
       "1           2   ALPK2  0.994126  0.496255  3.715526  0.000334  0.001841   \n",
       "2           3     TTN  0.122115  0.341531  2.852456  0.005272 -2.314030   \n",
       "3           4    UBR1  0.804240  2.699487  2.846444  0.005365 -2.327922   \n",
       "4           5  MAP3K1  0.989807  3.760067  2.529414  0.012987 -3.012350   \n",
       "\n",
       "        FDR     RNA cancer  mutation  \n",
       "0  0.004075    TP53   BRCA  missense  \n",
       "1  0.040779   ALPK2   BRCA  missense  \n",
       "2  0.327261     TTN   BRCA  missense  \n",
       "3  0.327261    UBR1   BRCA  missense  \n",
       "4  0.555211  MAP3K1   BRCA  missense  "
      ]
     },
     "execution_count": 3,
     "metadata": {},
     "output_type": "execute_result"
    }
   ],
   "source": [
    "rna.head()"
   ]
  },
  {
   "cell_type": "markdown",
   "id": "87fe2b9a",
   "metadata": {},
   "source": [
    "## seQTLs"
   ]
  },
  {
   "cell_type": "code",
   "execution_count": 4,
   "id": "1e6d1915",
   "metadata": {},
   "outputs": [],
   "source": [
    "sig_rna = rna[rna['FDR'] < 0.05]"
   ]
  },
  {
   "cell_type": "code",
   "execution_count": 5,
   "id": "6fcf096c",
   "metadata": {},
   "outputs": [],
   "source": [
    "# sig_rna = sig_rna.drop(['Unnamed: 0'], axis=1).reset_index(drop=True)\n",
    "# sig_rna.to_excel('../data/results/eQTLs.xlsx')"
   ]
  },
  {
   "cell_type": "code",
   "execution_count": 6,
   "id": "d495f522",
   "metadata": {},
   "outputs": [
    {
     "data": {
      "text/plain": [
       "(104, 11)"
      ]
     },
     "execution_count": 6,
     "metadata": {},
     "output_type": "execute_result"
    }
   ],
   "source": [
    "# the total number of seQTLs\n",
    "sig_rna.shape"
   ]
  },
  {
   "cell_type": "code",
   "execution_count": 7,
   "id": "2066477b",
   "metadata": {},
   "outputs": [
    {
     "data": {
      "text/html": [
       "<div>\n",
       "<style scoped>\n",
       "    .dataframe tbody tr th:only-of-type {\n",
       "        vertical-align: middle;\n",
       "    }\n",
       "\n",
       "    .dataframe tbody tr th {\n",
       "        vertical-align: top;\n",
       "    }\n",
       "\n",
       "    .dataframe thead th {\n",
       "        text-align: right;\n",
       "    }\n",
       "</style>\n",
       "<table border=\"1\" class=\"dataframe\">\n",
       "  <thead>\n",
       "    <tr style=\"text-align: right;\">\n",
       "      <th></th>\n",
       "      <th>Unnamed: 0</th>\n",
       "      <th>Gene</th>\n",
       "      <th>logFC</th>\n",
       "      <th>AveExpr</th>\n",
       "      <th>t</th>\n",
       "      <th>P.value</th>\n",
       "      <th>B</th>\n",
       "      <th>FDR</th>\n",
       "      <th>RNA</th>\n",
       "      <th>mutation</th>\n",
       "    </tr>\n",
       "    <tr>\n",
       "      <th>cancer</th>\n",
       "      <th></th>\n",
       "      <th></th>\n",
       "      <th></th>\n",
       "      <th></th>\n",
       "      <th></th>\n",
       "      <th></th>\n",
       "      <th></th>\n",
       "      <th></th>\n",
       "      <th></th>\n",
       "      <th></th>\n",
       "    </tr>\n",
       "  </thead>\n",
       "  <tbody>\n",
       "    <tr>\n",
       "      <th>BRCA</th>\n",
       "      <td>6</td>\n",
       "      <td>6</td>\n",
       "      <td>6</td>\n",
       "      <td>6</td>\n",
       "      <td>6</td>\n",
       "      <td>6</td>\n",
       "      <td>6</td>\n",
       "      <td>6</td>\n",
       "      <td>6</td>\n",
       "      <td>6</td>\n",
       "    </tr>\n",
       "    <tr>\n",
       "      <th>CCRCC</th>\n",
       "      <td>7</td>\n",
       "      <td>7</td>\n",
       "      <td>7</td>\n",
       "      <td>7</td>\n",
       "      <td>7</td>\n",
       "      <td>7</td>\n",
       "      <td>7</td>\n",
       "      <td>7</td>\n",
       "      <td>7</td>\n",
       "      <td>7</td>\n",
       "    </tr>\n",
       "    <tr>\n",
       "      <th>CRC</th>\n",
       "      <td>46</td>\n",
       "      <td>46</td>\n",
       "      <td>46</td>\n",
       "      <td>46</td>\n",
       "      <td>46</td>\n",
       "      <td>46</td>\n",
       "      <td>46</td>\n",
       "      <td>46</td>\n",
       "      <td>46</td>\n",
       "      <td>46</td>\n",
       "    </tr>\n",
       "    <tr>\n",
       "      <th>LUAD</th>\n",
       "      <td>27</td>\n",
       "      <td>27</td>\n",
       "      <td>27</td>\n",
       "      <td>27</td>\n",
       "      <td>27</td>\n",
       "      <td>27</td>\n",
       "      <td>27</td>\n",
       "      <td>27</td>\n",
       "      <td>27</td>\n",
       "      <td>27</td>\n",
       "    </tr>\n",
       "    <tr>\n",
       "      <th>OV</th>\n",
       "      <td>5</td>\n",
       "      <td>5</td>\n",
       "      <td>5</td>\n",
       "      <td>5</td>\n",
       "      <td>5</td>\n",
       "      <td>5</td>\n",
       "      <td>5</td>\n",
       "      <td>5</td>\n",
       "      <td>5</td>\n",
       "      <td>5</td>\n",
       "    </tr>\n",
       "    <tr>\n",
       "      <th>UCEC</th>\n",
       "      <td>13</td>\n",
       "      <td>13</td>\n",
       "      <td>13</td>\n",
       "      <td>13</td>\n",
       "      <td>13</td>\n",
       "      <td>13</td>\n",
       "      <td>13</td>\n",
       "      <td>13</td>\n",
       "      <td>13</td>\n",
       "      <td>13</td>\n",
       "    </tr>\n",
       "  </tbody>\n",
       "</table>\n",
       "</div>"
      ],
      "text/plain": [
       "        Unnamed: 0  Gene  logFC  AveExpr   t  P.value   B  FDR  RNA  mutation\n",
       "cancer                                                                       \n",
       "BRCA             6     6      6        6   6        6   6    6    6         6\n",
       "CCRCC            7     7      7        7   7        7   7    7    7         7\n",
       "CRC             46    46     46       46  46       46  46   46   46        46\n",
       "LUAD            27    27     27       27  27       27  27   27   27        27\n",
       "OV               5     5      5        5   5        5   5    5    5         5\n",
       "UCEC            13    13     13       13  13       13  13   13   13        13"
      ]
     },
     "execution_count": 7,
     "metadata": {},
     "output_type": "execute_result"
    }
   ],
   "source": [
    "# the number of seQTLs by cancer type\n",
    "sig_rna.groupby(by='cancer').count()"
   ]
  },
  {
   "cell_type": "code",
   "execution_count": 8,
   "id": "1c80a689",
   "metadata": {},
   "outputs": [
    {
     "data": {
      "text/html": [
       "<div>\n",
       "<style scoped>\n",
       "    .dataframe tbody tr th:only-of-type {\n",
       "        vertical-align: middle;\n",
       "    }\n",
       "\n",
       "    .dataframe tbody tr th {\n",
       "        vertical-align: top;\n",
       "    }\n",
       "\n",
       "    .dataframe thead th {\n",
       "        text-align: right;\n",
       "    }\n",
       "</style>\n",
       "<table border=\"1\" class=\"dataframe\">\n",
       "  <thead>\n",
       "    <tr style=\"text-align: right;\">\n",
       "      <th></th>\n",
       "      <th>Unnamed: 0</th>\n",
       "      <th>Gene</th>\n",
       "      <th>logFC</th>\n",
       "      <th>AveExpr</th>\n",
       "      <th>t</th>\n",
       "      <th>P.value</th>\n",
       "      <th>B</th>\n",
       "      <th>FDR</th>\n",
       "      <th>RNA</th>\n",
       "      <th>cancer</th>\n",
       "    </tr>\n",
       "    <tr>\n",
       "      <th>mutation</th>\n",
       "      <th></th>\n",
       "      <th></th>\n",
       "      <th></th>\n",
       "      <th></th>\n",
       "      <th></th>\n",
       "      <th></th>\n",
       "      <th></th>\n",
       "      <th></th>\n",
       "      <th></th>\n",
       "      <th></th>\n",
       "    </tr>\n",
       "  </thead>\n",
       "  <tbody>\n",
       "    <tr>\n",
       "      <th>missense</th>\n",
       "      <td>54</td>\n",
       "      <td>54</td>\n",
       "      <td>54</td>\n",
       "      <td>54</td>\n",
       "      <td>54</td>\n",
       "      <td>54</td>\n",
       "      <td>54</td>\n",
       "      <td>54</td>\n",
       "      <td>54</td>\n",
       "      <td>54</td>\n",
       "    </tr>\n",
       "    <tr>\n",
       "      <th>synonymous</th>\n",
       "      <td>11</td>\n",
       "      <td>11</td>\n",
       "      <td>11</td>\n",
       "      <td>11</td>\n",
       "      <td>11</td>\n",
       "      <td>11</td>\n",
       "      <td>11</td>\n",
       "      <td>11</td>\n",
       "      <td>11</td>\n",
       "      <td>11</td>\n",
       "    </tr>\n",
       "    <tr>\n",
       "      <th>truncating</th>\n",
       "      <td>39</td>\n",
       "      <td>39</td>\n",
       "      <td>39</td>\n",
       "      <td>39</td>\n",
       "      <td>39</td>\n",
       "      <td>39</td>\n",
       "      <td>39</td>\n",
       "      <td>39</td>\n",
       "      <td>39</td>\n",
       "      <td>39</td>\n",
       "    </tr>\n",
       "  </tbody>\n",
       "</table>\n",
       "</div>"
      ],
      "text/plain": [
       "            Unnamed: 0  Gene  logFC  AveExpr   t  P.value   B  FDR  RNA  \\\n",
       "mutation                                                                  \n",
       "missense            54    54     54       54  54       54  54   54   54   \n",
       "synonymous          11    11     11       11  11       11  11   11   11   \n",
       "truncating          39    39     39       39  39       39  39   39   39   \n",
       "\n",
       "            cancer  \n",
       "mutation            \n",
       "missense        54  \n",
       "synonymous      11  \n",
       "truncating      39  "
      ]
     },
     "execution_count": 8,
     "metadata": {},
     "output_type": "execute_result"
    }
   ],
   "source": [
    "# the number of seQTLs by mutation type\n",
    "sig_rna.groupby(by='mutation').count()"
   ]
  },
  {
   "cell_type": "markdown",
   "id": "2d04be43",
   "metadata": {},
   "source": [
    "## spQTLs"
   ]
  },
  {
   "cell_type": "code",
   "execution_count": 9,
   "id": "c5206654",
   "metadata": {},
   "outputs": [],
   "source": [
    "sig_pro = pro[pro['FDR'] < 0.05]"
   ]
  },
  {
   "cell_type": "code",
   "execution_count": 10,
   "id": "c03ff267",
   "metadata": {},
   "outputs": [],
   "source": [
    "# sig_pro = sig_pro.drop(['Unnamed: 0'], axis=1).reset_index(drop=True)\n",
    "# sig_pro.to_excel('../data/results/pQTLs.xlsx')"
   ]
  },
  {
   "cell_type": "code",
   "execution_count": 11,
   "id": "b2832a56",
   "metadata": {},
   "outputs": [
    {
     "data": {
      "text/plain": [
       "(108, 11)"
      ]
     },
     "execution_count": 11,
     "metadata": {},
     "output_type": "execute_result"
    }
   ],
   "source": [
    "# the total number of spQTLs\n",
    "sig_pro.shape"
   ]
  },
  {
   "cell_type": "code",
   "execution_count": 12,
   "id": "addfc2cf",
   "metadata": {},
   "outputs": [
    {
     "data": {
      "text/html": [
       "<div>\n",
       "<style scoped>\n",
       "    .dataframe tbody tr th:only-of-type {\n",
       "        vertical-align: middle;\n",
       "    }\n",
       "\n",
       "    .dataframe tbody tr th {\n",
       "        vertical-align: top;\n",
       "    }\n",
       "\n",
       "    .dataframe thead th {\n",
       "        text-align: right;\n",
       "    }\n",
       "</style>\n",
       "<table border=\"1\" class=\"dataframe\">\n",
       "  <thead>\n",
       "    <tr style=\"text-align: right;\">\n",
       "      <th></th>\n",
       "      <th>Unnamed: 0</th>\n",
       "      <th>Gene</th>\n",
       "      <th>logFC</th>\n",
       "      <th>AveExpr</th>\n",
       "      <th>t</th>\n",
       "      <th>P.value</th>\n",
       "      <th>B</th>\n",
       "      <th>FDR</th>\n",
       "      <th>Protein</th>\n",
       "      <th>mutation</th>\n",
       "    </tr>\n",
       "    <tr>\n",
       "      <th>cancer</th>\n",
       "      <th></th>\n",
       "      <th></th>\n",
       "      <th></th>\n",
       "      <th></th>\n",
       "      <th></th>\n",
       "      <th></th>\n",
       "      <th></th>\n",
       "      <th></th>\n",
       "      <th></th>\n",
       "      <th></th>\n",
       "    </tr>\n",
       "  </thead>\n",
       "  <tbody>\n",
       "    <tr>\n",
       "      <th>BRCA</th>\n",
       "      <td>4</td>\n",
       "      <td>4</td>\n",
       "      <td>4</td>\n",
       "      <td>4</td>\n",
       "      <td>4</td>\n",
       "      <td>4</td>\n",
       "      <td>4</td>\n",
       "      <td>4</td>\n",
       "      <td>4</td>\n",
       "      <td>4</td>\n",
       "    </tr>\n",
       "    <tr>\n",
       "      <th>CCRCC</th>\n",
       "      <td>6</td>\n",
       "      <td>6</td>\n",
       "      <td>6</td>\n",
       "      <td>6</td>\n",
       "      <td>6</td>\n",
       "      <td>6</td>\n",
       "      <td>6</td>\n",
       "      <td>6</td>\n",
       "      <td>6</td>\n",
       "      <td>6</td>\n",
       "    </tr>\n",
       "    <tr>\n",
       "      <th>CRC</th>\n",
       "      <td>31</td>\n",
       "      <td>31</td>\n",
       "      <td>31</td>\n",
       "      <td>31</td>\n",
       "      <td>31</td>\n",
       "      <td>31</td>\n",
       "      <td>31</td>\n",
       "      <td>31</td>\n",
       "      <td>31</td>\n",
       "      <td>31</td>\n",
       "    </tr>\n",
       "    <tr>\n",
       "      <th>LUAD</th>\n",
       "      <td>8</td>\n",
       "      <td>8</td>\n",
       "      <td>8</td>\n",
       "      <td>8</td>\n",
       "      <td>8</td>\n",
       "      <td>8</td>\n",
       "      <td>8</td>\n",
       "      <td>8</td>\n",
       "      <td>8</td>\n",
       "      <td>8</td>\n",
       "    </tr>\n",
       "    <tr>\n",
       "      <th>OV</th>\n",
       "      <td>4</td>\n",
       "      <td>4</td>\n",
       "      <td>4</td>\n",
       "      <td>4</td>\n",
       "      <td>4</td>\n",
       "      <td>4</td>\n",
       "      <td>4</td>\n",
       "      <td>4</td>\n",
       "      <td>4</td>\n",
       "      <td>4</td>\n",
       "    </tr>\n",
       "    <tr>\n",
       "      <th>UCEC</th>\n",
       "      <td>55</td>\n",
       "      <td>55</td>\n",
       "      <td>55</td>\n",
       "      <td>55</td>\n",
       "      <td>55</td>\n",
       "      <td>55</td>\n",
       "      <td>55</td>\n",
       "      <td>55</td>\n",
       "      <td>55</td>\n",
       "      <td>55</td>\n",
       "    </tr>\n",
       "  </tbody>\n",
       "</table>\n",
       "</div>"
      ],
      "text/plain": [
       "        Unnamed: 0  Gene  logFC  AveExpr   t  P.value   B  FDR  Protein  \\\n",
       "cancer                                                                    \n",
       "BRCA             4     4      4        4   4        4   4    4        4   \n",
       "CCRCC            6     6      6        6   6        6   6    6        6   \n",
       "CRC             31    31     31       31  31       31  31   31       31   \n",
       "LUAD             8     8      8        8   8        8   8    8        8   \n",
       "OV               4     4      4        4   4        4   4    4        4   \n",
       "UCEC            55    55     55       55  55       55  55   55       55   \n",
       "\n",
       "        mutation  \n",
       "cancer            \n",
       "BRCA           4  \n",
       "CCRCC          6  \n",
       "CRC           31  \n",
       "LUAD           8  \n",
       "OV             4  \n",
       "UCEC          55  "
      ]
     },
     "execution_count": 12,
     "metadata": {},
     "output_type": "execute_result"
    }
   ],
   "source": [
    "# the number of spQTLs by cancer type\n",
    "sig_pro.groupby(by='cancer').count()"
   ]
  },
  {
   "cell_type": "code",
   "execution_count": 13,
   "id": "b4d79134",
   "metadata": {},
   "outputs": [
    {
     "data": {
      "text/html": [
       "<div>\n",
       "<style scoped>\n",
       "    .dataframe tbody tr th:only-of-type {\n",
       "        vertical-align: middle;\n",
       "    }\n",
       "\n",
       "    .dataframe tbody tr th {\n",
       "        vertical-align: top;\n",
       "    }\n",
       "\n",
       "    .dataframe thead th {\n",
       "        text-align: right;\n",
       "    }\n",
       "</style>\n",
       "<table border=\"1\" class=\"dataframe\">\n",
       "  <thead>\n",
       "    <tr style=\"text-align: right;\">\n",
       "      <th></th>\n",
       "      <th>Unnamed: 0</th>\n",
       "      <th>Gene</th>\n",
       "      <th>logFC</th>\n",
       "      <th>AveExpr</th>\n",
       "      <th>t</th>\n",
       "      <th>P.value</th>\n",
       "      <th>B</th>\n",
       "      <th>FDR</th>\n",
       "      <th>Protein</th>\n",
       "      <th>cancer</th>\n",
       "    </tr>\n",
       "    <tr>\n",
       "      <th>mutation</th>\n",
       "      <th></th>\n",
       "      <th></th>\n",
       "      <th></th>\n",
       "      <th></th>\n",
       "      <th></th>\n",
       "      <th></th>\n",
       "      <th></th>\n",
       "      <th></th>\n",
       "      <th></th>\n",
       "      <th></th>\n",
       "    </tr>\n",
       "  </thead>\n",
       "  <tbody>\n",
       "    <tr>\n",
       "      <th>missense</th>\n",
       "      <td>9</td>\n",
       "      <td>9</td>\n",
       "      <td>9</td>\n",
       "      <td>9</td>\n",
       "      <td>9</td>\n",
       "      <td>9</td>\n",
       "      <td>9</td>\n",
       "      <td>9</td>\n",
       "      <td>9</td>\n",
       "      <td>9</td>\n",
       "    </tr>\n",
       "    <tr>\n",
       "      <th>synonymous</th>\n",
       "      <td>1</td>\n",
       "      <td>1</td>\n",
       "      <td>1</td>\n",
       "      <td>1</td>\n",
       "      <td>1</td>\n",
       "      <td>1</td>\n",
       "      <td>1</td>\n",
       "      <td>1</td>\n",
       "      <td>1</td>\n",
       "      <td>1</td>\n",
       "    </tr>\n",
       "    <tr>\n",
       "      <th>truncating</th>\n",
       "      <td>98</td>\n",
       "      <td>98</td>\n",
       "      <td>98</td>\n",
       "      <td>98</td>\n",
       "      <td>98</td>\n",
       "      <td>98</td>\n",
       "      <td>98</td>\n",
       "      <td>98</td>\n",
       "      <td>98</td>\n",
       "      <td>98</td>\n",
       "    </tr>\n",
       "  </tbody>\n",
       "</table>\n",
       "</div>"
      ],
      "text/plain": [
       "            Unnamed: 0  Gene  logFC  AveExpr   t  P.value   B  FDR  Protein  \\\n",
       "mutation                                                                      \n",
       "missense             9     9      9        9   9        9   9    9        9   \n",
       "synonymous           1     1      1        1   1        1   1    1        1   \n",
       "truncating          98    98     98       98  98       98  98   98       98   \n",
       "\n",
       "            cancer  \n",
       "mutation            \n",
       "missense         9  \n",
       "synonymous       1  \n",
       "truncating      98  "
      ]
     },
     "execution_count": 13,
     "metadata": {},
     "output_type": "execute_result"
    }
   ],
   "source": [
    "# the number of spQTLs by mutation type\n",
    "sig_pro.groupby(by='mutation').count()"
   ]
  },
  {
   "attachments": {},
   "cell_type": "markdown",
   "id": "857e4f5a",
   "metadata": {},
   "source": [
    "# Mutation impact that are concordant at mRNA and protein levels"
   ]
  },
  {
   "cell_type": "code",
   "execution_count": 14,
   "id": "6f193bbb",
   "metadata": {},
   "outputs": [
    {
     "data": {
      "text/html": [
       "<div>\n",
       "<style scoped>\n",
       "    .dataframe tbody tr th:only-of-type {\n",
       "        vertical-align: middle;\n",
       "    }\n",
       "\n",
       "    .dataframe tbody tr th {\n",
       "        vertical-align: top;\n",
       "    }\n",
       "\n",
       "    .dataframe thead th {\n",
       "        text-align: right;\n",
       "    }\n",
       "</style>\n",
       "<table border=\"1\" class=\"dataframe\">\n",
       "  <thead>\n",
       "    <tr style=\"text-align: right;\">\n",
       "      <th></th>\n",
       "      <th>Unnamed: 0</th>\n",
       "      <th>Gene</th>\n",
       "      <th>RNAlogFC</th>\n",
       "      <th>RNAAveExpr</th>\n",
       "      <th>RNAFDR</th>\n",
       "      <th>cancer</th>\n",
       "      <th>mutation</th>\n",
       "      <th>PrologFC</th>\n",
       "      <th>ProAveExpr</th>\n",
       "      <th>ProFDR</th>\n",
       "      <th>lrt</th>\n",
       "      <th>ispsQTL</th>\n",
       "      <th>overlap</th>\n",
       "    </tr>\n",
       "  </thead>\n",
       "  <tbody>\n",
       "    <tr>\n",
       "      <th>0</th>\n",
       "      <td>0</td>\n",
       "      <td>TP53</td>\n",
       "      <td>0.752430</td>\n",
       "      <td>3.437722</td>\n",
       "      <td>4.074853e-03</td>\n",
       "      <td>BRCA</td>\n",
       "      <td>missense</td>\n",
       "      <td>5.157955</td>\n",
       "      <td>-4.131038</td>\n",
       "      <td>3.859562e-09</td>\n",
       "      <td>True</td>\n",
       "      <td>False</td>\n",
       "      <td>False</td>\n",
       "    </tr>\n",
       "    <tr>\n",
       "      <th>1</th>\n",
       "      <td>137</td>\n",
       "      <td>TP53</td>\n",
       "      <td>-1.135258</td>\n",
       "      <td>3.437722</td>\n",
       "      <td>2.815644e-10</td>\n",
       "      <td>BRCA</td>\n",
       "      <td>truncating</td>\n",
       "      <td>-0.963731</td>\n",
       "      <td>-4.131038</td>\n",
       "      <td>3.983235e-01</td>\n",
       "      <td>True</td>\n",
       "      <td>False</td>\n",
       "      <td>False</td>\n",
       "    </tr>\n",
       "    <tr>\n",
       "      <th>2</th>\n",
       "      <td>138</td>\n",
       "      <td>CDH1</td>\n",
       "      <td>-2.666820</td>\n",
       "      <td>5.395649</td>\n",
       "      <td>2.775379e-06</td>\n",
       "      <td>BRCA</td>\n",
       "      <td>truncating</td>\n",
       "      <td>-5.003020</td>\n",
       "      <td>-0.848601</td>\n",
       "      <td>3.770341e-07</td>\n",
       "      <td>False</td>\n",
       "      <td>False</td>\n",
       "      <td>False</td>\n",
       "    </tr>\n",
       "    <tr>\n",
       "      <th>3</th>\n",
       "      <td>139</td>\n",
       "      <td>CBFB</td>\n",
       "      <td>-0.733797</td>\n",
       "      <td>3.584625</td>\n",
       "      <td>4.010529e-02</td>\n",
       "      <td>BRCA</td>\n",
       "      <td>truncating</td>\n",
       "      <td>-2.523522</td>\n",
       "      <td>-0.127755</td>\n",
       "      <td>7.140661e-04</td>\n",
       "      <td>True</td>\n",
       "      <td>False</td>\n",
       "      <td>False</td>\n",
       "    </tr>\n",
       "    <tr>\n",
       "      <th>4</th>\n",
       "      <td>140</td>\n",
       "      <td>MAP2K4</td>\n",
       "      <td>-0.701044</td>\n",
       "      <td>3.176204</td>\n",
       "      <td>9.523538e-02</td>\n",
       "      <td>BRCA</td>\n",
       "      <td>truncating</td>\n",
       "      <td>-3.400984</td>\n",
       "      <td>-0.253837</td>\n",
       "      <td>3.419037e-04</td>\n",
       "      <td>True</td>\n",
       "      <td>True</td>\n",
       "      <td>True</td>\n",
       "    </tr>\n",
       "  </tbody>\n",
       "</table>\n",
       "</div>"
      ],
      "text/plain": [
       "   Unnamed: 0    Gene  RNAlogFC  RNAAveExpr        RNAFDR cancer    mutation  \\\n",
       "0           0    TP53  0.752430    3.437722  4.074853e-03   BRCA    missense   \n",
       "1         137    TP53 -1.135258    3.437722  2.815644e-10   BRCA  truncating   \n",
       "2         138    CDH1 -2.666820    5.395649  2.775379e-06   BRCA  truncating   \n",
       "3         139    CBFB -0.733797    3.584625  4.010529e-02   BRCA  truncating   \n",
       "4         140  MAP2K4 -0.701044    3.176204  9.523538e-02   BRCA  truncating   \n",
       "\n",
       "   PrologFC  ProAveExpr        ProFDR    lrt  ispsQTL  overlap  \n",
       "0  5.157955   -4.131038  3.859562e-09   True    False    False  \n",
       "1 -0.963731   -4.131038  3.983235e-01   True    False    False  \n",
       "2 -5.003020   -0.848601  3.770341e-07  False    False    False  \n",
       "3 -2.523522   -0.127755  7.140661e-04   True    False    False  \n",
       "4 -3.400984   -0.253837  3.419037e-04   True     True     True  "
      ]
     },
     "execution_count": 14,
     "metadata": {},
     "output_type": "execute_result"
    }
   ],
   "source": [
    "sig_pro_rna = pd.read_csv('../data/sig_pro_rna.csv')\n",
    "sig_pro_rna.head()"
   ]
  },
  {
   "cell_type": "code",
   "execution_count": 15,
   "id": "419fcac0",
   "metadata": {},
   "outputs": [
    {
     "data": {
      "text/plain": [
       "(48, 13)"
      ]
     },
     "execution_count": 15,
     "metadata": {},
     "output_type": "execute_result"
    }
   ],
   "source": [
    "# the number of eQTLs can be detected at protein level\n",
    "sig_r = sig_pro_rna[sig_pro_rna['RNAFDR'] < 0.05]\n",
    "sig_r.shape"
   ]
  },
  {
   "cell_type": "code",
   "execution_count": 16,
   "id": "a9d11905",
   "metadata": {},
   "outputs": [
    {
     "data": {
      "text/plain": [
       "43"
      ]
     },
     "execution_count": 16,
     "metadata": {},
     "output_type": "execute_result"
    }
   ],
   "source": [
    "# the number of eQTLs that have the same direction as protein\n",
    "same_dir = sum(np.sign(sig_r['PrologFC']) == np.sign(sig_r['RNAlogFC'])) \n",
    "same_dir"
   ]
  },
  {
   "cell_type": "code",
   "execution_count": 17,
   "id": "e83c136c",
   "metadata": {},
   "outputs": [
    {
     "data": {
      "text/plain": [
       "0.8958333333333334"
      ]
     },
     "execution_count": 17,
     "metadata": {},
     "output_type": "execute_result"
    }
   ],
   "source": [
    "# the percentage of seQTLs that can be detected at both levels\n",
    "43 / 48"
   ]
  },
  {
   "cell_type": "code",
   "execution_count": 18,
   "id": "1e604f16",
   "metadata": {},
   "outputs": [
    {
     "data": {
      "text/plain": [
       "19"
      ]
     },
     "execution_count": 18,
     "metadata": {},
     "output_type": "execute_result"
    }
   ],
   "source": [
    "# QTLs that are significant at both levels\n",
    "concordant = sig_pro_rna[(sig_pro_rna['RNAFDR'] < 0.05) & (sig_pro_rna['ProFDR'] < 0.05)]\n",
    "len(concordant)"
   ]
  },
  {
   "cell_type": "code",
   "execution_count": 19,
   "id": "5e5f7957",
   "metadata": {},
   "outputs": [
    {
     "data": {
      "text/plain": [
       "0.3958333333333333"
      ]
     },
     "execution_count": 19,
     "metadata": {},
     "output_type": "execute_result"
    }
   ],
   "source": [
    "# the percentage of QTLs that are significant at both levels\n",
    "19 / 48"
   ]
  },
  {
   "cell_type": "code",
   "execution_count": 20,
   "id": "7f8858b4",
   "metadata": {},
   "outputs": [
    {
     "data": {
      "text/plain": [
       "(0.9203992136095441, 2.3929893707133057e-08)"
      ]
     },
     "execution_count": 20,
     "metadata": {},
     "output_type": "execute_result"
    }
   ],
   "source": [
    "# the pearson correlation between the logFC of concordant eQTL and pQTL\n",
    "stats.pearsonr(concordant['RNAlogFC'], concordant['PrologFC'])"
   ]
  },
  {
   "cell_type": "code",
   "execution_count": 21,
   "id": "bf727b51",
   "metadata": {},
   "outputs": [
    {
     "data": {
      "text/html": [
       "<div>\n",
       "<style scoped>\n",
       "    .dataframe tbody tr th:only-of-type {\n",
       "        vertical-align: middle;\n",
       "    }\n",
       "\n",
       "    .dataframe tbody tr th {\n",
       "        vertical-align: top;\n",
       "    }\n",
       "\n",
       "    .dataframe thead th {\n",
       "        text-align: right;\n",
       "    }\n",
       "</style>\n",
       "<table border=\"1\" class=\"dataframe\">\n",
       "  <thead>\n",
       "    <tr style=\"text-align: right;\">\n",
       "      <th></th>\n",
       "      <th>Unnamed: 0</th>\n",
       "      <th>Gene</th>\n",
       "      <th>RNAlogFC</th>\n",
       "      <th>RNAAveExpr</th>\n",
       "      <th>RNAFDR</th>\n",
       "      <th>cancer</th>\n",
       "      <th>PrologFC</th>\n",
       "      <th>ProAveExpr</th>\n",
       "      <th>ProFDR</th>\n",
       "      <th>lrt</th>\n",
       "      <th>ispsQTL</th>\n",
       "      <th>overlap</th>\n",
       "    </tr>\n",
       "    <tr>\n",
       "      <th>mutation</th>\n",
       "      <th></th>\n",
       "      <th></th>\n",
       "      <th></th>\n",
       "      <th></th>\n",
       "      <th></th>\n",
       "      <th></th>\n",
       "      <th></th>\n",
       "      <th></th>\n",
       "      <th></th>\n",
       "      <th></th>\n",
       "      <th></th>\n",
       "      <th></th>\n",
       "    </tr>\n",
       "  </thead>\n",
       "  <tbody>\n",
       "    <tr>\n",
       "      <th>missense</th>\n",
       "      <td>3</td>\n",
       "      <td>3</td>\n",
       "      <td>3</td>\n",
       "      <td>3</td>\n",
       "      <td>3</td>\n",
       "      <td>3</td>\n",
       "      <td>3</td>\n",
       "      <td>3</td>\n",
       "      <td>3</td>\n",
       "      <td>3</td>\n",
       "      <td>3</td>\n",
       "      <td>3</td>\n",
       "    </tr>\n",
       "    <tr>\n",
       "      <th>synonymous</th>\n",
       "      <td>1</td>\n",
       "      <td>1</td>\n",
       "      <td>1</td>\n",
       "      <td>1</td>\n",
       "      <td>1</td>\n",
       "      <td>1</td>\n",
       "      <td>1</td>\n",
       "      <td>1</td>\n",
       "      <td>1</td>\n",
       "      <td>1</td>\n",
       "      <td>1</td>\n",
       "      <td>1</td>\n",
       "    </tr>\n",
       "    <tr>\n",
       "      <th>truncating</th>\n",
       "      <td>15</td>\n",
       "      <td>15</td>\n",
       "      <td>15</td>\n",
       "      <td>15</td>\n",
       "      <td>15</td>\n",
       "      <td>15</td>\n",
       "      <td>15</td>\n",
       "      <td>15</td>\n",
       "      <td>15</td>\n",
       "      <td>15</td>\n",
       "      <td>15</td>\n",
       "      <td>15</td>\n",
       "    </tr>\n",
       "  </tbody>\n",
       "</table>\n",
       "</div>"
      ],
      "text/plain": [
       "            Unnamed: 0  Gene  RNAlogFC  RNAAveExpr  RNAFDR  cancer  PrologFC  \\\n",
       "mutation                                                                       \n",
       "missense             3     3         3           3       3       3         3   \n",
       "synonymous           1     1         1           1       1       1         1   \n",
       "truncating          15    15        15          15      15      15        15   \n",
       "\n",
       "            ProAveExpr  ProFDR  lrt  ispsQTL  overlap  \n",
       "mutation                                               \n",
       "missense             3       3    3        3        3  \n",
       "synonymous           1       1    1        1        1  \n",
       "truncating          15      15   15       15       15  "
      ]
     },
     "execution_count": 21,
     "metadata": {},
     "output_type": "execute_result"
    }
   ],
   "source": [
    "# number of concordant QTLs by mutation type\n",
    "concordant = sig_pro_rna[(sig_pro_rna['RNAFDR'] < 0.05) & (sig_pro_rna['ProFDR'] < 0.05)]\n",
    "# concordant.to_excel('../data/results/concordant.xlsx')\n",
    "concordant.groupby('mutation').count()"
   ]
  },
  {
   "attachments": {},
   "cell_type": "markdown",
   "id": "9d44a113",
   "metadata": {},
   "source": [
    "# Protein-specific mutation impacts not observed at mRNA levels"
   ]
  },
  {
   "cell_type": "code",
   "execution_count": 22,
   "id": "b86b9c16",
   "metadata": {},
   "outputs": [
    {
     "data": {
      "text/plain": [
       "99"
      ]
     },
     "execution_count": 22,
     "metadata": {},
     "output_type": "execute_result"
    }
   ],
   "source": [
    "sum(sig_pro_rna['lrt'])"
   ]
  },
  {
   "cell_type": "code",
   "execution_count": 23,
   "id": "6d7ccd1e",
   "metadata": {},
   "outputs": [
    {
     "data": {
      "text/plain": [
       "89"
      ]
     },
     "execution_count": 23,
     "metadata": {},
     "output_type": "execute_result"
    }
   ],
   "source": [
    "sum(sig_pro_rna['ispsQTL'])"
   ]
  },
  {
   "cell_type": "code",
   "execution_count": 24,
   "id": "4b335ccc",
   "metadata": {},
   "outputs": [
    {
     "data": {
      "text/plain": [
       "84"
      ]
     },
     "execution_count": 24,
     "metadata": {},
     "output_type": "execute_result"
    }
   ],
   "source": [
    "sum(sig_pro_rna['overlap'])"
   ]
  },
  {
   "cell_type": "code",
   "execution_count": 25,
   "id": "0e030052",
   "metadata": {},
   "outputs": [
    {
     "data": {
      "text/plain": [
       "78"
      ]
     },
     "execution_count": 25,
     "metadata": {},
     "output_type": "execute_result"
    }
   ],
   "source": [
    "# number of truncating psQTLs\n",
    "psQTLs_tru = sig_pro_rna[(sig_pro_rna['overlap'] == True) & (sig_pro_rna['mutation'] == 'truncating')]\n",
    "len(psQTLs_tru)"
   ]
  },
  {
   "cell_type": "code",
   "execution_count": 26,
   "id": "9894d5c1",
   "metadata": {},
   "outputs": [
    {
     "data": {
      "text/plain": [
       "0.9285714285714286"
      ]
     },
     "execution_count": 26,
     "metadata": {},
     "output_type": "execute_result"
    }
   ],
   "source": [
    "# percetage of truncating psQTLs\n",
    "78 / 84"
   ]
  },
  {
   "cell_type": "code",
   "execution_count": 27,
   "id": "9058f0d4",
   "metadata": {},
   "outputs": [],
   "source": [
    "discordant = sig_pro_rna[sig_pro_rna['overlap'] == True]\n",
    "# discordant.to_excel('../data/results/discordant.xlsx')"
   ]
  },
  {
   "cell_type": "code",
   "execution_count": null,
   "id": "65ff8e25",
   "metadata": {},
   "outputs": [],
   "source": []
  }
 ],
 "metadata": {
  "kernelspec": {
   "display_name": "Python 3",
   "language": "python",
   "name": "python3"
  },
  "language_info": {
   "codemirror_mode": {
    "name": "ipython",
    "version": 3
   },
   "file_extension": ".py",
   "mimetype": "text/x-python",
   "name": "python",
   "nbconvert_exporter": "python",
   "pygments_lexer": "ipython3",
   "version": "3.8.8"
  }
 },
 "nbformat": 4,
 "nbformat_minor": 5
}
